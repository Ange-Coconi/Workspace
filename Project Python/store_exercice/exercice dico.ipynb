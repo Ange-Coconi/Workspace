{
 "cells": [
  {
   "cell_type": "code",
   "execution_count": 4,
   "id": "db00d663-341d-44ea-a692-663ff2708a54",
   "metadata": {},
   "outputs": [
    {
     "name": "stdout",
     "output_type": "stream",
     "text": [
      "sausage\n",
      "pommes\n",
      "fish\n",
      "lentils\n",
      "vegetables\n"
     ]
    }
   ],
   "source": [
    "foods = ('sausage', 'pommes', 'fish', 'lentils', 'vegetables')\n",
    "for food in foods:\n",
    "    print(food)"
   ]
  },
  {
   "cell_type": "code",
   "execution_count": 6,
   "id": "6efb346a-0ee7-4cf8-8fca-8a222943fe93",
   "metadata": {},
   "outputs": [
    {
     "ename": "TypeError",
     "evalue": "'tuple' object does not support item assignment",
     "output_type": "error",
     "traceback": [
      "\u001b[1;31m---------------------------------------------------------------------------\u001b[0m",
      "\u001b[1;31mTypeError\u001b[0m                                 Traceback (most recent call last)",
      "Cell \u001b[1;32mIn[6], line 1\u001b[0m\n\u001b[1;32m----> 1\u001b[0m foods[\u001b[38;5;241m0\u001b[39m] \u001b[38;5;241m=\u001b[39m \u001b[38;5;124m'\u001b[39m\u001b[38;5;124msteack\u001b[39m\u001b[38;5;124m'\u001b[39m\n",
      "\u001b[1;31mTypeError\u001b[0m: 'tuple' object does not support item assignment"
     ]
    }
   ],
   "source": [
    "foods[0] = 'steack'"
   ]
  },
  {
   "cell_type": "code",
   "execution_count": 8,
   "id": "7908b70b-e469-4dc0-8bfd-49adcdf5176d",
   "metadata": {},
   "outputs": [
    {
     "name": "stdout",
     "output_type": "stream",
     "text": [
      "steack\n",
      "pommes\n",
      "fallafels\n",
      "lentils\n",
      "vegetables\n"
     ]
    }
   ],
   "source": [
    "foods = ('steack', 'pommes', 'fallafels', 'lentils', 'vegetables')\n",
    "for food in foods:\n",
    "    print(food)\n",
    "    "
   ]
  },
  {
   "cell_type": "code",
   "execution_count": 10,
   "id": "a90d8ed0-7009-4514-93a2-36b41f9614c8",
   "metadata": {},
   "outputs": [
    {
     "name": "stdout",
     "output_type": "stream",
     "text": [
      "you just earned 5 points !\n"
     ]
    }
   ],
   "source": [
    "alien_0 = {'color': 'green', 'points': 5}\n",
    "\n",
    "print(\"you just earned \" + str(alien_0['points']) + \" points !\")"
   ]
  },
  {
   "cell_type": "code",
   "execution_count": 12,
   "id": "310e849c-71fd-4459-9ec0-a7ce9f94cef6",
   "metadata": {},
   "outputs": [
    {
     "name": "stdout",
     "output_type": "stream",
     "text": [
      "{'color': 'green', 'points': 5, 'x_position': 0, 'y_position': 25}\n"
     ]
    }
   ],
   "source": [
    "alien_0['x_position'] = 0\n",
    "alien_0['y_position'] = 25\n",
    "print(alien_0)"
   ]
  },
  {
   "cell_type": "code",
   "execution_count": 18,
   "id": "1b9baff2-f2ea-43c7-9989-edab69823821",
   "metadata": {},
   "outputs": [
    {
     "name": "stdout",
     "output_type": "stream",
     "text": [
      "Original x-position: 0\n",
      "New x-position: 2\n"
     ]
    }
   ],
   "source": [
    "alien_1 = {'x_position': 0, 'y_position': 25, 'speed': 'medium'}\n",
    "print(\"Original x-position: \" + str(alien_1['x_position']))\n",
    "\n",
    "# Move the alien to the right.\n",
    "# Determine how far to move the alien based on its current speed.\n",
    "\n",
    "if alien_1['speed'] == 'slow':\n",
    "    x_increment = 1\n",
    "elif alien_1['speed'] == 'medium':\n",
    "    x_increment = 2\n",
    "else:\n",
    "    x_increment = 3\n",
    "\n",
    "# The new position is the old position plus the increment.\n",
    "alien_1['x_position'] = alien_1['x_position'] + x_increment\n",
    "\n",
    "print(\"New x-position: \" + str(alien_1['x_position']))"
   ]
  }
 ],
 "metadata": {
  "kernelspec": {
   "display_name": "Python 3 (ipykernel)",
   "language": "python",
   "name": "python3"
  },
  "language_info": {
   "codemirror_mode": {
    "name": "ipython",
    "version": 3
   },
   "file_extension": ".py",
   "mimetype": "text/x-python",
   "name": "python",
   "nbconvert_exporter": "python",
   "pygments_lexer": "ipython3",
   "version": "3.12.4"
  }
 },
 "nbformat": 4,
 "nbformat_minor": 5
}
