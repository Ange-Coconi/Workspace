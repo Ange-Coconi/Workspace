{
 "cells": [
  {
   "cell_type": "code",
   "execution_count": 12,
   "id": "7fb3667e-6949-4c5a-8334-5c79ff6ba632",
   "metadata": {},
   "outputs": [
    {
     "name": "stdout",
     "output_type": "stream",
     "text": [
      "bonjour\n"
     ]
    }
   ],
   "source": [
    "f = open('fichier.txt', 'w')\n",
    "f.write('bonjour')\n",
    "f.close()\n",
    "\n",
    "f = open('fichier.txt', 'r')\n",
    "content = f.read()\n",
    "print(content)\n",
    "f.close()"
   ]
  },
  {
   "cell_type": "code",
   "execution_count": 50,
   "id": "8040b1f4-5e9f-42c5-a206-9a47699fe1ca",
   "metadata": {},
   "outputs": [
    {
     "name": "stdout",
     "output_type": "stream",
     "text": [
      "['0^2 = 0', '1^2 = 1', '2^2 = 4', '3^2 = 9', '4^2 = 16', '5^2 = 25', '6^2 = 36', '7^2 = 49', '8^2 = 64', '9^2 = 81']\n",
      "nomber of line: 10\n"
     ]
    }
   ],
   "source": [
    "with open('fichier.txt','w') as f:\n",
    "    for i in range(10):\n",
    "        f.write('{}^2 = {} \\n'.format(i, i**2))\n",
    "\n",
    "L = []\n",
    "with open('fichier.txt', 'r') as f:\n",
    "    for i in f:\n",
    "        L.append(i.rstrip(' \\n'))\n",
    "f.close()\n",
    "print(L)\n",
    "\n",
    "\n",
    "fd = open('fichier.txt', 'r')\n",
    "n = 0\n",
    "for line in fd:\n",
    "    n += 1\n",
    "fd.close()\n",
    "\n",
    "print(f\"nomber of line: {n}\")"
   ]
  },
  {
   "cell_type": "code",
   "execution_count": 30,
   "id": "e075be2b-1b63-450c-9f80-e8abe6d71e63",
   "metadata": {},
   "outputs": [
    {
     "name": "stdout",
     "output_type": "stream",
     "text": [
      "10\n"
     ]
    }
   ],
   "source": [
    "print(n)\n"
   ]
  },
  {
   "cell_type": "code",
   "execution_count": null,
   "id": "ac3e0660-6fd3-4933-ba37-e51643631e07",
   "metadata": {},
   "outputs": [],
   "source": []
  }
 ],
 "metadata": {
  "kernelspec": {
   "display_name": "Python 3 (ipykernel)",
   "language": "python",
   "name": "python3"
  },
  "language_info": {
   "codemirror_mode": {
    "name": "ipython",
    "version": 3
   },
   "file_extension": ".py",
   "mimetype": "text/x-python",
   "name": "python",
   "nbconvert_exporter": "python",
   "pygments_lexer": "ipython3",
   "version": "3.12.4"
  }
 },
 "nbformat": 4,
 "nbformat_minor": 5
}
